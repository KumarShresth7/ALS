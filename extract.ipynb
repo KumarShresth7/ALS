{
 "cells": [
  {
   "cell_type": "code",
   "execution_count": null,
   "id": "bfe0b0c3",
   "metadata": {},
   "outputs": [],
   "source": [
    "#Measure pitch of all wav files in directory\n",
    "import glob\n",
    "import numpy as np\n",
    "import pandas as pd\n",
    "import parselmouth\n",
    "\n",
    "from parselmouth.praat import call\n",
    "\n",
    "\n",
    "def measurePitch(voiceID, f0min, f0max, unit):\n",
    "    sound = parselmouth.Sound(voiceID)  # read the sound\n",
    "    pitch = call(sound, \"To Pitch\", 0.0, f0min, f0max)  # create a praat pitch object\n",
    "    meanF0 = call(pitch, \"Get mean\", 0, 0, unit)  # get mean pitch\n",
    "    stdevF0 = call(pitch, \"Get standard deviation\", 0, 0, unit)  # get standard deviation\n",
    "    harmonicity = call(sound, \"To Harmonicity (cc)\", 0.01, 75, 0.1, 1.0)\n",
    "    hnr = call(harmonicity, \"Get mean\", 0, 0)\n",
    "    pointProcess = call(sound, \"To PointProcess (periodic, cc)\", f0min, f0max)\n",
    "    localJitter = call(pointProcess, \"Get jitter (local)\", 0, 0, 0.0001, 0.02, 1.3)\n",
    "    localShimmer = call([sound, pointProcess], \"Get shimmer (local)\", 0, 0, 0.0001, 0.02, 1.3, 1.6)\n",
    "\n",
    "    return meanF0, stdevF0, hnr, localJitter, localShimmer\n",
    "\n",
    "\n",
    "# create lists to put the results\n",
    "file_list = []\n",
    "mean_F0_list = []\n",
    "sd_F0_list = []\n",
    "hnr_list = []\n",
    "localJitter_list = []\n",
    "localShimmer_list = []\n",
    "\n",
    "# Go through all the wave files in the folder and measure pitch\n",
    "for wave_file in glob.glob(\"VOC-ALS/phonationE/*.wav\"):\n",
    "    sound = parselmouth.Sound(wave_file)\n",
    "    (meanF0, stdevF0, hnr, localJitter, localShimmer) = measurePitch(sound, 75, 500, \"Hertz\")\n",
    "    file_list.append(wave_file) # make an ID list\n",
    "    mean_F0_list.append(meanF0) # make a mean F0 list\n",
    "    sd_F0_list.append(stdevF0) # make a sd F0 list\n",
    "    hnr_list.append(hnr) # make a hnr list\n",
    "    localJitter_list.append(localJitter) # make a localJitter list\n",
    "    localShimmer_list.append(localShimmer) # make a localShimmer list\n",
    "df = pd.DataFrame(np.column_stack([file_list, mean_F0_list, sd_F0_list, hnr_list, localJitter_list,  localShimmer_list]),\n",
    "                               columns=['fileName', 'meanF0Hz', 'stdevF0Hz', 'HNR', 'localJitter', 'localShimmer'])\n",
    "\n",
    "# Write out the results\n",
    "df.to_csv(\"processedAudio/processed_resultsE.csv\", index=False)"
   ]
  }
 ],
 "metadata": {
  "kernelspec": {
   "display_name": "venv",
   "language": "python",
   "name": "python3"
  },
  "language_info": {
   "codemirror_mode": {
    "name": "ipython",
    "version": 3
   },
   "file_extension": ".py",
   "mimetype": "text/x-python",
   "name": "python",
   "nbconvert_exporter": "python",
   "pygments_lexer": "ipython3",
   "version": "3.12.6"
  }
 },
 "nbformat": 4,
 "nbformat_minor": 5
}
