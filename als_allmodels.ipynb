{
 "cells": [
  {
   "cell_type": "code",
   "execution_count": 2,
   "id": "6f916e7d",
   "metadata": {},
   "outputs": [],
   "source": [
    "import pandas as pd\n",
    "import numpy as np\n",
    "from sklearn.model_selection import train_test_split\n",
    "from sklearn.preprocessing import StandardScaler\n",
    "from sklearn.ensemble import RandomForestClassifier\n",
    "from sklearn.metrics import classification_report, accuracy_score\n",
    "import matplotlib.pyplot as plt\n",
    "import seaborn as sns\n",
    "from sklearn.svm import SVC\n",
    "from xgboost import XGBClassifier\n",
    "from sklearn.model_selection import GridSearchCV\n",
    "from sklearn.neural_network import MLPClassifier"
   ]
  },
  {
   "cell_type": "code",
   "execution_count": 3,
   "id": "35e1da99",
   "metadata": {},
   "outputs": [],
   "source": [
    "df = pd.read_excel(\"VOC-ALS/VOC-ALS.xlsx\", sheet_name=\"VOC-ALS_Data\",header=1)"
   ]
  },
  {
   "cell_type": "code",
   "execution_count": 4,
   "id": "e68af1da",
   "metadata": {},
   "outputs": [],
   "source": [
    "vowels = ['A', 'E', 'I', 'O', 'U']\n",
    "syllables = ['PA', 'TA', 'KA']\n",
    "metrics = ['meanF0Hz', 'stdevF0Hz', 'HNR', 'localJitter', 'localShimmer']\n"
   ]
  },
  {
   "cell_type": "code",
   "execution_count": 5,
   "id": "aaebc774",
   "metadata": {},
   "outputs": [],
   "source": [
    "acoustic_features = []\n",
    "for sound in vowels + syllables:\n",
    "    for metric in metrics:\n",
    "        feature_name = f\"{metric}_{sound}\"\n",
    "        acoustic_features.append(feature_name)"
   ]
  },
  {
   "cell_type": "code",
   "execution_count": 6,
   "id": "6e7033a0",
   "metadata": {},
   "outputs": [
    {
     "data": {
      "text/plain": [
       "40"
      ]
     },
     "execution_count": 6,
     "metadata": {},
     "output_type": "execute_result"
    }
   ],
   "source": [
    "acoustic_features\n",
    "len(acoustic_features)"
   ]
  },
  {
   "cell_type": "code",
   "execution_count": 7,
   "id": "181aa599",
   "metadata": {},
   "outputs": [],
   "source": [
    "X = df[acoustic_features].copy()\n",
    "y = df['Category'].map({'ALS': 1, 'HC': 0})"
   ]
  },
  {
   "cell_type": "code",
   "execution_count": 8,
   "id": "37353b13",
   "metadata": {},
   "outputs": [],
   "source": [
    "X = X.fillna(X.mean())"
   ]
  },
  {
   "cell_type": "code",
   "execution_count": 9,
   "id": "628bc18a",
   "metadata": {},
   "outputs": [],
   "source": [
    "X['Age'] = df['Age (years)']\n",
    "X['Sex'] = df['Sex'].map({'M': 1, 'F': 0})"
   ]
  },
  {
   "cell_type": "code",
   "execution_count": 10,
   "id": "0d0f78d0",
   "metadata": {},
   "outputs": [],
   "source": [
    "for sound in vowels + syllables:\n",
    "    X[f'jitter_shimmer_ratio_{sound}'] = X[f'localJitter_{sound}'] / X[f'localShimmer_{sound}']\n",
    "    X[f'f0_variability_{sound}'] = X[f'stdevF0Hz_{sound}'] / X[f'meanF0Hz_{sound}']"
   ]
  },
  {
   "cell_type": "code",
   "execution_count": 11,
   "id": "9a6a5528",
   "metadata": {},
   "outputs": [],
   "source": [
    "X_train, X_test, y_train, y_test = train_test_split(X, y, test_size=0.2, random_state=42, stratify=y)"
   ]
  },
  {
   "cell_type": "code",
   "execution_count": 12,
   "id": "a64a69a0",
   "metadata": {},
   "outputs": [],
   "source": [
    "scaler = StandardScaler()\n",
    "X_train_scaled = scaler.fit_transform(X_train)\n",
    "X_test_scaled = scaler.transform(X_test)"
   ]
  },
  {
   "cell_type": "code",
   "execution_count": 13,
   "id": "fabf5fe5",
   "metadata": {},
   "outputs": [],
   "source": [
    "models = {\n",
    "    'Random Forest': RandomForestClassifier(n_estimators=100, random_state=42),\n",
    "    'SVM': SVC(kernel='rbf', probability=True, random_state=42),\n",
    "    'XGBoost': XGBClassifier(random_state=42),\n",
    "    'Neural Network': MLPClassifier(hidden_layer_sizes=(100,50), max_iter=500, random_state=42)\n",
    "}"
   ]
  },
  {
   "cell_type": "code",
   "execution_count": 14,
   "id": "2b33bf86",
   "metadata": {},
   "outputs": [
    {
     "name": "stdout",
     "output_type": "stream",
     "text": [
      "Random Forest Accuracy: 0.7097\n",
      "              precision    recall  f1-score   support\n",
      "\n",
      "           0       0.55      0.60      0.57        10\n",
      "           1       0.80      0.76      0.78        21\n",
      "\n",
      "    accuracy                           0.71        31\n",
      "   macro avg       0.67      0.68      0.68        31\n",
      "weighted avg       0.72      0.71      0.71        31\n",
      "\n",
      "SVM Accuracy: 0.6774\n",
      "              precision    recall  f1-score   support\n",
      "\n",
      "           0       0.50      0.10      0.17        10\n",
      "           1       0.69      0.95      0.80        21\n",
      "\n",
      "    accuracy                           0.68        31\n",
      "   macro avg       0.59      0.53      0.48        31\n",
      "weighted avg       0.63      0.68      0.60        31\n",
      "\n",
      "XGBoost Accuracy: 0.6452\n",
      "              precision    recall  f1-score   support\n",
      "\n",
      "           0       0.45      0.50      0.48        10\n",
      "           1       0.75      0.71      0.73        21\n",
      "\n",
      "    accuracy                           0.65        31\n",
      "   macro avg       0.60      0.61      0.60        31\n",
      "weighted avg       0.65      0.65      0.65        31\n",
      "\n",
      "Neural Network Accuracy: 0.7097\n",
      "              precision    recall  f1-score   support\n",
      "\n",
      "           0       0.54      0.70      0.61        10\n",
      "           1       0.83      0.71      0.77        21\n",
      "\n",
      "    accuracy                           0.71        31\n",
      "   macro avg       0.69      0.71      0.69        31\n",
      "weighted avg       0.74      0.71      0.72        31\n",
      "\n"
     ]
    }
   ],
   "source": [
    "results = {}\n",
    "for name, model in models.items():\n",
    "    model.fit(X_train_scaled, y_train)\n",
    "    y_pred = model.predict(X_test_scaled)\n",
    "    accuracy = accuracy_score(y_test, y_pred)\n",
    "    results[name] = accuracy\n",
    "    print(f\"{name} Accuracy: {accuracy:.4f}\")\n",
    "    print(classification_report(y_test, y_pred))"
   ]
  },
  {
   "cell_type": "code",
   "execution_count": 15,
   "id": "3c5014ab",
   "metadata": {},
   "outputs": [
    {
     "name": "stdout",
     "output_type": "stream",
     "text": [
      "\n",
      "Tuning hyperparameters for Random Forest...\n"
     ]
    }
   ],
   "source": [
    "best_model_name = max(results, key=results.get)\n",
    "print(f\"\\nTuning hyperparameters for {best_model_name}...\")"
   ]
  },
  {
   "cell_type": "code",
   "execution_count": 16,
   "id": "3a0c5fac",
   "metadata": {},
   "outputs": [
    {
     "name": "stdout",
     "output_type": "stream",
     "text": [
      "\n",
      "Tuning hyperparameters for Random Forest...\n",
      "Best parameters: {'max_depth': None, 'min_samples_split': 2, 'n_estimators': 50}\n",
      "Tuned Random Forest Accuracy: 0.6774\n",
      "              precision    recall  f1-score   support\n",
      "\n",
      "           0       0.50      0.60      0.55        10\n",
      "           1       0.79      0.71      0.75        21\n",
      "\n",
      "    accuracy                           0.68        31\n",
      "   macro avg       0.64      0.66      0.65        31\n",
      "weighted avg       0.70      0.68      0.68        31\n",
      "\n"
     ]
    }
   ],
   "source": [
    "best_model_name = max(results, key=results.get)\n",
    "print(f\"\\nTuning hyperparameters for {best_model_name}...\")\n",
    "\n",
    "if best_model_name == 'XGBoost':\n",
    "    param_grid = {\n",
    "        'n_estimators': [50, 100, 200],\n",
    "        'max_depth': [3, 5, 7],\n",
    "        'learning_rate': [0.01, 0.1, 0.2]\n",
    "    }\n",
    "    grid_search = GridSearchCV(XGBClassifier(random_state=42), param_grid, cv=5, scoring='accuracy')\n",
    "    \n",
    "elif best_model_name == 'Random Forest':\n",
    "    param_grid = {\n",
    "        'n_estimators': [50, 100, 200],\n",
    "        'max_depth': [None, 10, 20],\n",
    "        'min_samples_split': [2, 5, 10]\n",
    "    }\n",
    "    grid_search = GridSearchCV(RandomForestClassifier(random_state=42), param_grid, cv=5, scoring='accuracy')\n",
    "    \n",
    "elif best_model_name == 'SVM':\n",
    "    param_grid = {\n",
    "        'C': [0.1, 1, 10, 100],\n",
    "        'gamma': ['scale', 'auto', 0.1, 0.01]\n",
    "    }\n",
    "    grid_search = GridSearchCV(SVC(kernel='rbf', probability=True, random_state=42), param_grid, cv=5, scoring='accuracy')\n",
    "    \n",
    "else:  # Neural Network\n",
    "    param_grid = {\n",
    "        'hidden_layer_sizes': [(50,), (100,), (100,50)],\n",
    "        'alpha': [0.0001, 0.001, 0.01],\n",
    "        'learning_rate_init': [0.001, 0.01]\n",
    "    }\n",
    "    grid_search = GridSearchCV(MLPClassifier(max_iter=500, random_state=42), param_grid, cv=5, scoring='accuracy')\n",
    "\n",
    "grid_search.fit(X_train_scaled, y_train)\n",
    "print(f\"Best parameters: {grid_search.best_params_}\")\n",
    "best_model = grid_search.best_estimator_\n",
    "best_pred = best_model.predict(X_test_scaled)\n",
    "best_accuracy = accuracy_score(y_test, best_pred)\n",
    "print(f\"Tuned {best_model_name} Accuracy: {best_accuracy:.4f}\")\n",
    "print(classification_report(y_test, best_pred))"
   ]
  },
  {
   "cell_type": "code",
   "execution_count": 17,
   "id": "5f6eff2b",
   "metadata": {},
   "outputs": [
    {
     "data": {
      "text/plain": [
       "['als_detection_scaler.pkl']"
      ]
     },
     "execution_count": 17,
     "metadata": {},
     "output_type": "execute_result"
    }
   ],
   "source": [
    "import joblib\n",
    "joblib.dump(best_model, 'als_detection_model.pkl')\n",
    "joblib.dump(scaler, 'als_detection_scaler.pkl')"
   ]
  },
  {
   "cell_type": "code",
   "execution_count": 29,
   "id": "b0ac8e4a",
   "metadata": {},
   "outputs": [],
   "source": [
    "def predict_als(new_data):\n",
    "    \"\"\"\n",
    "    Predict ALS from acoustic features\n",
    "    \n",
    "    Parameters:\n",
    "    new_data (dict): Dictionary with acoustic features\n",
    "    \n",
    "    Returns:\n",
    "    tuple: (prediction, probability, result_string)\n",
    "    \"\"\"\n",
    "    # Convert to DataFrame\n",
    "    new_df = pd.DataFrame([new_data])\n",
    "    \n",
    "    # Fill missing values\n",
    "    new_df = new_df.fillna(X.mean())\n",
    "    \n",
    "    # Add engineered features for each sound\n",
    "    for sound in vowels + syllables:\n",
    "        new_df[f'jitter_shimmer_ratio_{sound}'] = new_df[f'localJitter_{sound}'] / new_df[f'localShimmer_{sound}']\n",
    "        new_df[f'f0_variability_{sound}'] = new_df[f'stdevF0Hz_{sound}'] / new_df[f'meanF0Hz_{sound}']\n",
    "    \n",
    "    # Ensure columns match training data\n",
    "    missing_cols = set(X.columns) - set(new_df.columns)\n",
    "    for col in missing_cols:\n",
    "        new_df[col] = X[col].mean()  # Fill with mean values from training data\n",
    "    \n",
    "    new_df = new_df[X.columns]  # Reorder columns to match training data\n",
    "    \n",
    "    # Scale features\n",
    "    new_scaled = scaler.transform(new_df)\n",
    "    \n",
    "    # Predict\n",
    "    prediction = best_model.predict(new_scaled)[0]\n",
    "    probability = best_model.predict_proba(new_scaled)[0][1]\n",
    "    \n",
    "    # Generate result string\n",
    "    result = \"ALS detected\" if prediction == 1 else \"No ALS detected\"\n",
    "    \n",
    "    return prediction, probability, result"
   ]
  },
  {
   "cell_type": "code",
   "execution_count": null,
   "id": "6d077a4a",
   "metadata": {},
   "outputs": [],
   "source": []
  },
  {
   "cell_type": "code",
   "execution_count": 19,
   "id": "3d657cda",
   "metadata": {},
   "outputs": [],
   "source": [
    "import parselmouth\n",
    "import glob\n",
    "import os\n",
    "import pandas as pd\n",
    "from parselmouth.praat import call"
   ]
  },
  {
   "cell_type": "code",
   "execution_count": 20,
   "id": "8ba85264",
   "metadata": {},
   "outputs": [],
   "source": [
    "def measurePitch(sound, f0min=75, f0max=500, unit=\"Hertz\"):\n",
    "    \"\"\"Extract acoustic features from a sound object\"\"\"\n",
    "    pitch = call(sound, \"To Pitch\", 0.0, f0min, f0max)\n",
    "    meanF0 = call(pitch, \"Get mean\", 0, 0, unit)\n",
    "    stdevF0 = call(pitch, \"Get standard deviation\", 0, 0, unit)\n",
    "    harmonicity = call(sound, \"To Harmonicity (cc)\", 0.01, 75, 0.1, 1.0)\n",
    "    hnr = call(harmonicity, \"Get mean\", 0, 0)\n",
    "    pointProcess = call(sound, \"To PointProcess (periodic, cc)\", f0min, f0max)\n",
    "    localJitter = call(pointProcess, \"Get jitter (local)\", 0, 0, 0.0001, 0.02, 1.3)\n",
    "    localShimmer = call([sound, pointProcess], \"Get shimmer (local)\", 0, 0, 0.0001, 0.02, 1.3, 1.6)\n",
    "    \n",
    "    return meanF0, stdevF0, hnr, localJitter, localShimmer"
   ]
  },
  {
   "cell_type": "code",
   "execution_count": 48,
   "id": "41c153eb",
   "metadata": {},
   "outputs": [],
   "source": [
    "folder_path = \"test_voice/no_als\""
   ]
  },
  {
   "cell_type": "code",
   "execution_count": 49,
   "id": "80221af2",
   "metadata": {},
   "outputs": [],
   "source": [
    "wav_files = glob.glob(os.path.join(folder_path, \"*.wav\"))"
   ]
  },
  {
   "cell_type": "code",
   "execution_count": 50,
   "id": "f4f98b70",
   "metadata": {},
   "outputs": [],
   "source": [
    "features = {}\n",
    "\n",
    "# Mapping for sound types\n",
    "sound_mapping = {\n",
    "    'phonationA': 'A',\n",
    "    'phonationE': 'E',\n",
    "    'phonationI': 'I',\n",
    "    'phonationO': 'O',\n",
    "    'phonationU': 'U',\n",
    "    'rhythmKA': 'KA',\n",
    "    'rhythmPA': 'PA',\n",
    "    'rhythmTA': 'TA'\n",
    "}\n"
   ]
  },
  {
   "cell_type": "code",
   "execution_count": 51,
   "id": "bcaa7766",
   "metadata": {},
   "outputs": [
    {
     "name": "stdout",
     "output_type": "stream",
     "text": [
      "Processed CT001_phonationA.wav successfully\n",
      "Processed CT001_phonationE.wav successfully\n",
      "Processed CT001_phonationI.wav successfully\n",
      "Processed CT001_phonationO.wav successfully\n",
      "Processed CT001_phonationU.wav successfully\n",
      "Processed CT001_rhythmKA.wav successfully\n",
      "Processed CT001_rhythmPA.wav successfully\n",
      "Processed CT001_rhythmTA.wav successfully\n"
     ]
    }
   ],
   "source": [
    "for wav_file in wav_files:\n",
    "    try:\n",
    "        sound = parselmouth.Sound(wav_file)\n",
    "        meanF0, stdevF0, hnr, localJitter, localShimmer = measurePitch(sound)\n",
    "        \n",
    "        # Extract the sound label from filename\n",
    "        base_name = os.path.basename(wav_file)\n",
    "        file_parts = base_name.split('_')\n",
    "        \n",
    "        # Get the sound type (A, E, I, O, U, PA, TA, KA)\n",
    "        for key, value in sound_mapping.items():\n",
    "            if key in base_name:\n",
    "                sound_type = value\n",
    "                break\n",
    "        \n",
    "        # Store features in dictionary\n",
    "        features[f'meanF0Hz_{sound_type}'] = meanF0\n",
    "        features[f'stdevF0Hz_{sound_type}'] = stdevF0\n",
    "        features[f'HNR_{sound_type}'] = hnr\n",
    "        features[f'localJitter_{sound_type}'] = localJitter\n",
    "        features[f'localShimmer_{sound_type}'] = localShimmer\n",
    "        \n",
    "        print(f\"Processed {base_name} successfully\")\n",
    "    except Exception as e:\n",
    "        print(f\"Error processing {wav_file}: {e}\")"
   ]
  },
  {
   "cell_type": "code",
   "execution_count": 52,
   "id": "099d95fc",
   "metadata": {},
   "outputs": [],
   "source": [
    "# Add after existing feature extraction code\n",
    "features['Age'] = 50  # Default age value\n",
    "features['Sex'] = 1   # Default to male (1) or 0 for female"
   ]
  },
  {
   "cell_type": "code",
   "execution_count": 53,
   "id": "ac860af5",
   "metadata": {},
   "outputs": [
    {
     "name": "stdout",
     "output_type": "stream",
     "text": [
      "\n",
      "Extracted features:\n",
      "meanF0Hz_A: 178.21550084384813\n",
      "stdevF0Hz_A: 1.7800228581107524\n",
      "HNR_A: 17.10114757449144\n",
      "localJitter_A: 0.003916510772002931\n",
      "localShimmer_A: 0.10771010582614468\n",
      "meanF0Hz_E: 188.70480320952183\n",
      "stdevF0Hz_E: 5.1026171350033716\n",
      "HNR_E: 15.753448452274073\n",
      "localJitter_E: 0.004096614037388618\n",
      "localShimmer_E: 0.0809132701141244\n",
      "meanF0Hz_I: 195.08696386765288\n",
      "stdevF0Hz_I: 2.5452836578815172\n",
      "HNR_I: 24.789677439188686\n",
      "localJitter_I: 0.0022795998295045954\n",
      "localShimmer_I: 0.038205745571530746\n",
      "meanF0Hz_O: 193.33143706379306\n",
      "stdevF0Hz_O: 1.6491704069794209\n",
      "HNR_O: 20.352912413989788\n",
      "localJitter_O: 0.002307045670463888\n",
      "localShimmer_O: 0.04459131193962331\n",
      "meanF0Hz_U: 199.12141891503242\n",
      "stdevF0Hz_U: 5.086864722879646\n",
      "HNR_U: 30.954966643168046\n",
      "localJitter_U: 0.00159987416843971\n",
      "localShimmer_U: 0.023504165214585638\n",
      "meanF0Hz_KA: 171.1639262574513\n",
      "stdevF0Hz_KA: 17.065878907071614\n",
      "HNR_KA: 9.622981708901271\n",
      "localJitter_KA: 0.01764665708456529\n",
      "localShimmer_KA: 0.1015362704135749\n",
      "meanF0Hz_PA: 174.66576985582805\n",
      "stdevF0Hz_PA: 12.01283072882525\n",
      "HNR_PA: 10.573983226662486\n",
      "localJitter_PA: 0.013597162972195409\n",
      "localShimmer_PA: 0.10048844237634502\n",
      "meanF0Hz_TA: 168.15656565973617\n",
      "stdevF0Hz_TA: 13.62718088515456\n",
      "HNR_TA: 11.079713224002663\n",
      "localJitter_TA: 0.012800455871489909\n",
      "localShimmer_TA: 0.08499791480265714\n",
      "Age: 50\n",
      "Sex: 1\n"
     ]
    }
   ],
   "source": [
    "print(\"\\nExtracted features:\")\n",
    "for key, value in features.items():\n",
    "    print(f\"{key}: {value}\")"
   ]
  },
  {
   "cell_type": "code",
   "execution_count": 46,
   "id": "29018885",
   "metadata": {},
   "outputs": [
    {
     "data": {
      "text/plain": [
       "42"
      ]
     },
     "execution_count": 46,
     "metadata": {},
     "output_type": "execute_result"
    }
   ],
   "source": [
    "len(features)"
   ]
  },
  {
   "cell_type": "code",
   "execution_count": 54,
   "id": "b0280bea",
   "metadata": {},
   "outputs": [
    {
     "name": "stdout",
     "output_type": "stream",
     "text": [
      "\n",
      "Prediction Result: No ALS detected\n",
      "Probability of ALS: 0.18\n",
      "Binary Prediction: 0\n"
     ]
    }
   ],
   "source": [
    "prediction, probability, result = predict_als(features)\n",
    "print(f\"\\nPrediction Result: {result}\")\n",
    "print(f\"Probability of ALS: {probability:.2f}\")\n",
    "print(f\"Binary Prediction: {prediction}\")"
   ]
  }
 ],
 "metadata": {
  "kernelspec": {
   "display_name": "venv",
   "language": "python",
   "name": "python3"
  },
  "language_info": {
   "codemirror_mode": {
    "name": "ipython",
    "version": 3
   },
   "file_extension": ".py",
   "mimetype": "text/x-python",
   "name": "python",
   "nbconvert_exporter": "python",
   "pygments_lexer": "ipython3",
   "version": "3.12.6"
  }
 },
 "nbformat": 4,
 "nbformat_minor": 5
}
