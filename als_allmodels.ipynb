{
 "cells": [
  {
   "cell_type": "code",
   "execution_count": 2,
   "id": "6f916e7d",
   "metadata": {},
   "outputs": [],
   "source": [
    "import pandas as pd\n",
    "import numpy as np\n",
    "from sklearn.model_selection import train_test_split\n",
    "from sklearn.preprocessing import StandardScaler\n",
    "from sklearn.ensemble import RandomForestClassifier\n",
    "from sklearn.metrics import classification_report, accuracy_score\n",
    "import matplotlib.pyplot as plt\n",
    "import seaborn as sns\n",
    "from sklearn.svm import SVC\n",
    "from xgboost import XGBClassifier\n",
    "from sklearn.model_selection import GridSearchCV\n",
    "from sklearn.neural_network import MLPClassifier"
   ]
  },
  {
   "cell_type": "code",
   "execution_count": 4,
   "id": "35e1da99",
   "metadata": {},
   "outputs": [],
   "source": [
    "df = pd.read_excel(\"VOC-ALS/VOC-ALS.xlsx\", sheet_name=\"VOC-ALS_Data\",header=1)"
   ]
  },
  {
   "cell_type": "code",
   "execution_count": 5,
   "id": "e68af1da",
   "metadata": {},
   "outputs": [],
   "source": [
    "vowels = ['A', 'E', 'I', 'O', 'U']\n",
    "syllables = ['PA', 'TA', 'KA']\n",
    "metrics = ['meanF0Hz', 'stdevF0Hz', 'HNR', 'localJitter', 'localShimmer']\n"
   ]
  },
  {
   "cell_type": "code",
   "execution_count": 6,
   "id": "aaebc774",
   "metadata": {},
   "outputs": [],
   "source": [
    "acoustic_features = []\n",
    "for sound in vowels + syllables:\n",
    "    for metric in metrics:\n",
    "        feature_name = f\"{metric}_{sound}\"\n",
    "        acoustic_features.append(feature_name)"
   ]
  },
  {
   "cell_type": "code",
   "execution_count": 25,
   "id": "6e7033a0",
   "metadata": {},
   "outputs": [
    {
     "data": {
      "text/plain": [
       "40"
      ]
     },
     "execution_count": 25,
     "metadata": {},
     "output_type": "execute_result"
    }
   ],
   "source": [
    "acoustic_features\n",
    "len(acoustic_features)"
   ]
  },
  {
   "cell_type": "code",
   "execution_count": 8,
   "id": "181aa599",
   "metadata": {},
   "outputs": [],
   "source": [
    "X = df[acoustic_features].copy()\n",
    "y = df['Category'].map({'ALS': 1, 'HC': 0})"
   ]
  },
  {
   "cell_type": "code",
   "execution_count": 9,
   "id": "37353b13",
   "metadata": {},
   "outputs": [],
   "source": [
    "X = X.fillna(X.mean())"
   ]
  },
  {
   "cell_type": "code",
   "execution_count": 10,
   "id": "628bc18a",
   "metadata": {},
   "outputs": [],
   "source": [
    "X['Age'] = df['Age (years)']\n",
    "X['Sex'] = df['Sex'].map({'M': 1, 'F': 0})"
   ]
  },
  {
   "cell_type": "code",
   "execution_count": 11,
   "id": "0d0f78d0",
   "metadata": {},
   "outputs": [],
   "source": [
    "for sound in vowels + syllables:\n",
    "    X[f'jitter_shimmer_ratio_{sound}'] = X[f'localJitter_{sound}'] / X[f'localShimmer_{sound}']\n",
    "    X[f'f0_variability_{sound}'] = X[f'stdevF0Hz_{sound}'] / X[f'meanF0Hz_{sound}']"
   ]
  },
  {
   "cell_type": "code",
   "execution_count": 12,
   "id": "9a6a5528",
   "metadata": {},
   "outputs": [],
   "source": [
    "X_train, X_test, y_train, y_test = train_test_split(X, y, test_size=0.2, random_state=42, stratify=y)"
   ]
  },
  {
   "cell_type": "code",
   "execution_count": 13,
   "id": "a64a69a0",
   "metadata": {},
   "outputs": [],
   "source": [
    "scaler = StandardScaler()\n",
    "X_train_scaled = scaler.fit_transform(X_train)\n",
    "X_test_scaled = scaler.transform(X_test)"
   ]
  },
  {
   "cell_type": "code",
   "execution_count": 14,
   "id": "fabf5fe5",
   "metadata": {},
   "outputs": [],
   "source": [
    "models = {\n",
    "    'Random Forest': RandomForestClassifier(n_estimators=100, random_state=42),\n",
    "    'SVM': SVC(kernel='rbf', probability=True, random_state=42),\n",
    "    'XGBoost': XGBClassifier(random_state=42),\n",
    "    'Neural Network': MLPClassifier(hidden_layer_sizes=(100,50), max_iter=500, random_state=42)\n",
    "}"
   ]
  },
  {
   "cell_type": "code",
   "execution_count": 15,
   "id": "2b33bf86",
   "metadata": {},
   "outputs": [
    {
     "name": "stdout",
     "output_type": "stream",
     "text": [
      "Random Forest Accuracy: 0.7097\n",
      "              precision    recall  f1-score   support\n",
      "\n",
      "           0       0.55      0.60      0.57        10\n",
      "           1       0.80      0.76      0.78        21\n",
      "\n",
      "    accuracy                           0.71        31\n",
      "   macro avg       0.67      0.68      0.68        31\n",
      "weighted avg       0.72      0.71      0.71        31\n",
      "\n",
      "SVM Accuracy: 0.6774\n",
      "              precision    recall  f1-score   support\n",
      "\n",
      "           0       0.50      0.10      0.17        10\n",
      "           1       0.69      0.95      0.80        21\n",
      "\n",
      "    accuracy                           0.68        31\n",
      "   macro avg       0.59      0.53      0.48        31\n",
      "weighted avg       0.63      0.68      0.60        31\n",
      "\n",
      "XGBoost Accuracy: 0.6452\n",
      "              precision    recall  f1-score   support\n",
      "\n",
      "           0       0.45      0.50      0.48        10\n",
      "           1       0.75      0.71      0.73        21\n",
      "\n",
      "    accuracy                           0.65        31\n",
      "   macro avg       0.60      0.61      0.60        31\n",
      "weighted avg       0.65      0.65      0.65        31\n",
      "\n",
      "Neural Network Accuracy: 0.7097\n",
      "              precision    recall  f1-score   support\n",
      "\n",
      "           0       0.54      0.70      0.61        10\n",
      "           1       0.83      0.71      0.77        21\n",
      "\n",
      "    accuracy                           0.71        31\n",
      "   macro avg       0.69      0.71      0.69        31\n",
      "weighted avg       0.74      0.71      0.72        31\n",
      "\n"
     ]
    }
   ],
   "source": [
    "results = {}\n",
    "for name, model in models.items():\n",
    "    model.fit(X_train_scaled, y_train)\n",
    "    y_pred = model.predict(X_test_scaled)\n",
    "    accuracy = accuracy_score(y_test, y_pred)\n",
    "    results[name] = accuracy\n",
    "    print(f\"{name} Accuracy: {accuracy:.4f}\")\n",
    "    print(classification_report(y_test, y_pred))"
   ]
  },
  {
   "cell_type": "code",
   "execution_count": 16,
   "id": "3c5014ab",
   "metadata": {},
   "outputs": [
    {
     "name": "stdout",
     "output_type": "stream",
     "text": [
      "\n",
      "Tuning hyperparameters for Random Forest...\n"
     ]
    }
   ],
   "source": [
    "best_model_name = max(results, key=results.get)\n",
    "print(f\"\\nTuning hyperparameters for {best_model_name}...\")"
   ]
  },
  {
   "cell_type": "code",
   "execution_count": 17,
   "id": "3a0c5fac",
   "metadata": {},
   "outputs": [
    {
     "name": "stdout",
     "output_type": "stream",
     "text": [
      "\n",
      "Tuning hyperparameters for Random Forest...\n",
      "Best parameters: {'max_depth': None, 'min_samples_split': 2, 'n_estimators': 50}\n",
      "Tuned Random Forest Accuracy: 0.6774\n",
      "              precision    recall  f1-score   support\n",
      "\n",
      "           0       0.50      0.60      0.55        10\n",
      "           1       0.79      0.71      0.75        21\n",
      "\n",
      "    accuracy                           0.68        31\n",
      "   macro avg       0.64      0.66      0.65        31\n",
      "weighted avg       0.70      0.68      0.68        31\n",
      "\n"
     ]
    }
   ],
   "source": [
    "best_model_name = max(results, key=results.get)\n",
    "print(f\"\\nTuning hyperparameters for {best_model_name}...\")\n",
    "\n",
    "if best_model_name == 'XGBoost':\n",
    "    param_grid = {\n",
    "        'n_estimators': [50, 100, 200],\n",
    "        'max_depth': [3, 5, 7],\n",
    "        'learning_rate': [0.01, 0.1, 0.2]\n",
    "    }\n",
    "    grid_search = GridSearchCV(XGBClassifier(random_state=42), param_grid, cv=5, scoring='accuracy')\n",
    "    \n",
    "elif best_model_name == 'Random Forest':\n",
    "    param_grid = {\n",
    "        'n_estimators': [50, 100, 200],\n",
    "        'max_depth': [None, 10, 20],\n",
    "        'min_samples_split': [2, 5, 10]\n",
    "    }\n",
    "    grid_search = GridSearchCV(RandomForestClassifier(random_state=42), param_grid, cv=5, scoring='accuracy')\n",
    "    \n",
    "elif best_model_name == 'SVM':\n",
    "    param_grid = {\n",
    "        'C': [0.1, 1, 10, 100],\n",
    "        'gamma': ['scale', 'auto', 0.1, 0.01]\n",
    "    }\n",
    "    grid_search = GridSearchCV(SVC(kernel='rbf', probability=True, random_state=42), param_grid, cv=5, scoring='accuracy')\n",
    "    \n",
    "else:  # Neural Network\n",
    "    param_grid = {\n",
    "        'hidden_layer_sizes': [(50,), (100,), (100,50)],\n",
    "        'alpha': [0.0001, 0.001, 0.01],\n",
    "        'learning_rate_init': [0.001, 0.01]\n",
    "    }\n",
    "    grid_search = GridSearchCV(MLPClassifier(max_iter=500, random_state=42), param_grid, cv=5, scoring='accuracy')\n",
    "\n",
    "grid_search.fit(X_train_scaled, y_train)\n",
    "print(f\"Best parameters: {grid_search.best_params_}\")\n",
    "best_model = grid_search.best_estimator_\n",
    "best_pred = best_model.predict(X_test_scaled)\n",
    "best_accuracy = accuracy_score(y_test, best_pred)\n",
    "print(f\"Tuned {best_model_name} Accuracy: {best_accuracy:.4f}\")\n",
    "print(classification_report(y_test, best_pred))"
   ]
  },
  {
   "cell_type": "code",
   "execution_count": 18,
   "id": "5f6eff2b",
   "metadata": {},
   "outputs": [
    {
     "data": {
      "text/plain": [
       "['als_detection_scaler.pkl']"
      ]
     },
     "execution_count": 18,
     "metadata": {},
     "output_type": "execute_result"
    }
   ],
   "source": [
    "import joblib\n",
    "joblib.dump(best_model, 'als_detection_model.pkl')\n",
    "joblib.dump(scaler, 'als_detection_scaler.pkl')"
   ]
  },
  {
   "cell_type": "code",
   "execution_count": 19,
   "id": "b0ac8e4a",
   "metadata": {},
   "outputs": [],
   "source": [
    "def predict_als(new_data):\n",
    "    \"\"\"\n",
    "    Predict ALS from acoustic features\n",
    "    \n",
    "    Parameters:\n",
    "    new_data (dict): Dictionary with acoustic features\n",
    "    \n",
    "    Returns:\n",
    "    tuple: (prediction, probability)\n",
    "    \"\"\"\n",
    "    # Convert to DataFrame\n",
    "    new_df = pd.DataFrame([new_data])\n",
    "    \n",
    "    # Fill missing values\n",
    "    new_df = new_df.fillna(X.mean())\n",
    "    \n",
    "    # Add engineered features\n",
    "    for sound in vowels + syllables:\n",
    "        new_df[f'jitter_shimmer_ratio_{sound}'] = new_df[f'localJitter_{sound}'] / new_df[f'localShimmer_{sound}']\n",
    "        new_df[f'f0_variability_{sound}'] = new_df[f'stdevF0Hz_{sound}'] / new_df[f'meanF0Hz_{sound}']\n",
    "    \n",
    "    # Scale features\n",
    "    new_scaled = scaler.transform(new_df)\n",
    "    \n",
    "    # Predict\n",
    "    prediction = best_model.predict(new_scaled)[0]\n",
    "    probability = best_model.predict_proba(new_scaled)[0][1]\n",
    "    \n",
    "    return prediction, probability"
   ]
  }
 ],
 "metadata": {
  "kernelspec": {
   "display_name": "venv",
   "language": "python",
   "name": "python3"
  },
  "language_info": {
   "codemirror_mode": {
    "name": "ipython",
    "version": 3
   },
   "file_extension": ".py",
   "mimetype": "text/x-python",
   "name": "python",
   "nbconvert_exporter": "python",
   "pygments_lexer": "ipython3",
   "version": "3.12.6"
  }
 },
 "nbformat": 4,
 "nbformat_minor": 5
}
